{
  "nbformat": 4,
  "nbformat_minor": 0,
  "metadata": {
    "colab": {
      "name": "classification_test.ipynb",
      "provenance": [],
      "collapsed_sections": [],
      "machine_shape": "hm"
    },
    "kernelspec": {
      "name": "python3",
      "display_name": "Python 3"
    },
    "language_info": {
      "name": "python"
    }
  },
  "cells": [
    {
      "cell_type": "code",
      "metadata": {
        "id": "eUp3lyEOkt27"
      },
      "source": [
        "#root_dir = 'drive/MyDrive/Colab Notebooks/hachathon_hyper_ad_tech'"
      ],
      "execution_count": 7,
      "outputs": []
    },
    {
      "cell_type": "code",
      "metadata": {
        "colab": {
          "base_uri": "https://localhost:8080/",
          "height": 52
        },
        "id": "c1jOzbhdkMVU",
        "outputId": "b09e79f8-5678-4107-df76-2d520d9c7b8f"
      },
      "source": [
        "%load_ext autoreload\n",
        "\n",
        "import os\n",
        "import sys\n",
        "import joblib\n",
        "import pickle\n",
        "import pandas as pd\n",
        "import numpy as np\n",
        "from pandas.api.types import is_numeric_dtype, is_object_dtype\n",
        "\n",
        "import matplotlib.pyplot as plt\n",
        "import seaborn as sns\n",
        "\n",
        "import lightgbm as lgb\n",
        "\n",
        "from sklearn.model_selection import train_test_split\n",
        "from sklearn.preprocessing import StandardScaler\n",
        "import sklearn.metrics as metrics\n",
        "from sklearn.model_selection import StratifiedKFold\n",
        "\n",
        "from IPython.core.display import display, HTML\n",
        "display(HTML(\"<style>.container { width:90% !important; }</style>\"))\n",
        "\n",
        "root_dir = os.path.abspath('..')\n",
        "sys.path.append(os.path.join(root_dir, 'src/'))\n",
        "\n",
        "import feature_preprocess\n",
        "import eda_functions"
      ],
      "execution_count": 8,
      "outputs": [
        {
          "output_type": "stream",
          "name": "stdout",
          "text": [
            "The autoreload extension is already loaded. To reload it, use:\n",
            "  %reload_ext autoreload\n"
          ]
        },
        {
          "output_type": "display_data",
          "data": {
            "text/html": [
              "<style>.container { width:90% !important; }</style>"
            ],
            "text/plain": [
              "<IPython.core.display.HTML object>"
            ]
          },
          "metadata": {}
        }
      ]
    },
    {
      "cell_type": "code",
      "metadata": {
        "id": "MJmLKHX2kQap"
      },
      "source": [
        "DATA_FOLDER = os.path.join(root_dir, 'hackathon/')\n",
        "LGBM_MODELS_FOLDER = os.path.join(root_dir, 'models/lgbm/')\n",
        "MODES_FOLDER = os.path.join(root_dir, 'models/imputer_modes/')\n",
        "OUTPUT_FOLDER = os.path.join(root_dir, 'output/')\n",
        "TRAIN_FILE = 'train.csv'\n",
        "TEST_FILE = 'test.csv'\n",
        "SEGMENTS_FILE = 'Segments.xlsx'\n",
        "CITIES_FILE = 'data_cities.csv'\n",
        "PATH_CITIES = os.path.join(root_dir, 'data/' + CITIES_FILE)\n",
        "RANDOM_STATE = 27\n",
        "\n",
        "FRAC = 0.05\n",
        "\n",
        "pd.set_option('display.max_columns', None)\n",
        "\n",
        "TIME_TAGS_COLS = [\n",
        "    'weekday',\n",
        "    'is_weekend',\n",
        "    'is_academic_year',\n",
        "    'is_early_morning',\n",
        "    'is_morning',\n",
        "    'is_day',\n",
        "    'is_evening',\n",
        "    'is_late_evening',\n",
        "    'is_night'\n",
        "]"
      ],
      "execution_count": 9,
      "outputs": []
    },
    {
      "cell_type": "code",
      "metadata": {
        "id": "wuFY9nxMldDc"
      },
      "source": [
        "def preprocess_text_features(df, text_features=None, os_version='osv'):\n",
        "    \n",
        "    df = df.copy()\n",
        "    if text_features is None:\n",
        "        text_features = ['gamecategory', 'subgamecategory', 'bundle', 'oblast', 'city', 'os']\n",
        "\n",
        "    for ftr in text_features:\n",
        "        df[ftr] = df[ftr].str.upper()\n",
        "    df[os_version] = df[os_version].str.replace(r'[^0-9]', '', regex=True)\n",
        "    df[os_version] = df[os_version].str.rstrip('0')\n",
        "\n",
        "    return df"
      ],
      "execution_count": 10,
      "outputs": []
    },
    {
      "cell_type": "code",
      "metadata": {
        "id": "eG3EO266kW34"
      },
      "source": [
        "PATH_CITIES = 'drive/MyDrive/Colab Notebooks/hachathon_hyper_ad_tech/data_cities.csv'"
      ],
      "execution_count": 5,
      "outputs": []
    },
    {
      "cell_type": "code",
      "metadata": {
        "id": "pojIa7B8kYl_"
      },
      "source": [
        "def predict_on_test():\n",
        "    print('reading test...')\n",
        "    test_raw = pd.read_csv(os.path.join(DATA_FOLDER, TEST_FILE))\n",
        "    print(test_raw.shape)\n",
        "    print('preprocessing test...')\n",
        "    test_raw_preprocessed = preprocess_text_features(test_raw)\n",
        "    del test_raw\n",
        "    with open(os.path.join(MODES_FOLDER, 'mode_subgamecategory.pkl'), mode='rb') as file:\n",
        "        mode_sub = pickle.load(file)\n",
        "    with open(os.path.join(MODES_FOLDER, 'mode_gamecategory.pkl'), mode='rb') as file:\n",
        "        mode_game = pickle.load(file)\n",
        "    test_raw_preprocessed['subgamecategory'] = feature_preprocess.impute_column_test(test_raw_preprocessed, 'subgamecategory', mode_sub)\n",
        "    test_raw_preprocessed['gamecategory'] = feature_preprocess.impute_column_test(test_raw_preprocessed, 'gamecategory', mode_game)\n",
        "    test_raw_preprocessed = feature_preprocess.make_features_from_cities(test_raw_preprocessed, PATH_CITIES)\n",
        "\n",
        "    test_raw_time_ftrs = \\\n",
        "      feature_preprocess.make_features_from_time(\n",
        "        test_raw_preprocessed,\n",
        "        dt_target='loc',\n",
        "        datetime_col_msk='created',\n",
        "        shift_col = 'shift',\n",
        "        fill_shift_na=False,\n",
        "        shift_filler='MSK',\n",
        "        dt_format = '%Y-%m-%d %H:%M:%S'\n",
        "        )\n",
        "    print('make_features_from_time done')\n",
        "\n",
        "    test_raw_time_tags = feature_preprocess.get_tags_from_time_features(\n",
        "        test_raw_time_ftrs, \n",
        "        tags_cols=TIME_TAGS_COLS, \n",
        "        tags_dict=None)\n",
        "\n",
        "    print('get_tags_from_time_features done')\n",
        "\n",
        "    test_raw_all_ftrs = pd.concat([test_raw_preprocessed, test_raw_time_ftrs.reset_index(drop=True), test_raw_time_tags.reset_index(drop=True)], axis=1)\n",
        "    test_raw_all_ftrs.drop(columns=['created', 'shift'], inplace=True)\n",
        "\n",
        "    print('dataset prepared successfully')\n",
        "\n",
        "    os_tags = feature_preprocess.phone_tags(test_raw_all_ftrs)\n",
        "    osv_new = test_raw_all_ftrs['osv'].astype(str).apply(feature_preprocess.get_version_float)\n",
        "    osv_new.columns=['osv_fixed']\n",
        "    test_raw_all_ftrs = pd.concat([test_raw_all_ftrs, os_tags, osv_new], axis=1)\n",
        "\n",
        "    test_raw_all_ftrs['osv'] = test_raw_all_ftrs['osv'].replace('',0)\n",
        "    target_names = ['Segment_1', 'Segment_2', 'Segment_3', 'Segment_4', 'Segment_5']\n",
        "    category_cols = ['os', 'bundle', 'loc_is_weekend_tag', 'loc_weekday_tag', 'city', 'gamecategory', 'loc_is_academic_year_tag', 'subgamecategory', 'type', 'oblast', 'loc_time_of_day_tag', 'new_phone', 'os_']\n",
        "    for col in category_cols:\n",
        "      test_raw_all_ftrs[col] = test_raw_all_ftrs[col].astype('category')\n",
        "\n",
        "    for col in ['osv','timezone']:\n",
        "        test_raw_all_ftrs[col] = test_raw_all_ftrs[col].astype('float')\n",
        "\n",
        "    loaded_models = {}\n",
        "    version = 'v2.0'\n",
        "    for targ in target_names:\n",
        "        model_name = f'lgbm_segment_{targ}_{version}.pkl'\n",
        "        loaded_models[targ] = joblib.load(os.path.join(LGBM_MODELS_FOLDER, model_name))\n",
        "\n",
        "    test_predic = {}\n",
        "    for targ in target_names:\n",
        "        test_predic[targ] = loaded_models[targ].predict(test_raw_all_ftrs)\n",
        "\n",
        "    test_predictions = pd.DataFrame(dtype=np.float64)\n",
        "    for targ in target_names:\n",
        "        test_predictions[f'{targ}_proba'] = test_predic[targ]\n",
        "\n",
        "    postfix = '_lgbm_Marina_v2'\n",
        "    test_predictions.to_csv(os.path.join(OUTPUT_FOLDER, f'test_predictions{postfix}.csv'), index=False)\n",
        "    display(test_predictions)"
      ],
      "execution_count": 6,
      "outputs": []
    },
    {
      "cell_type": "code",
      "metadata": {
        "colab": {
          "base_uri": "https://localhost:8080/"
        },
        "id": "pb5zD0c7kmPd",
        "outputId": "043ec0ed-0e2e-4e07-827d-41f09e1efe7c"
      },
      "source": [
        "predict_on_test()"
      ],
      "execution_count": null,
      "outputs": [
        {
          "output_type": "stream",
          "name": "stdout",
          "text": [
            "reading test...\n",
            "(11213629, 9)\n",
            "preprocessing test...\n"
          ]
        }
      ]
    }
  ]
}